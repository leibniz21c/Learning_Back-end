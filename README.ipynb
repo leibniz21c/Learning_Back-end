{
 "cells": [
  {
   "cell_type": "markdown",
   "metadata": {},
   "source": [
    "# Back-end 로드맵에 의거한 학습 저장소\n",
    "---\n",
    "![enter image description here](https://media.vlpt.us/images/exploit017/post/19525e87-ea78-43e7-ae7f-178ec9f45541/image.png)\n",
    "\n",
    "reference : [https://velog.io/@exploit017/2020-%EB%B0%B1%EC%97%94%EB%93%9C-%EA%B0%9C%EB%B0%9C%EC%9E%90-%EB%A1%9C%EB%93%9C%EB%A7%B5?fbclid=IwAR0ncLwd2i7sK5yw-byITi5S-ROxreJdXaV6EWJhHwMJ52pAQNvsbPhpB_c](https://velog.io/@exploit017/2020-%EB%B0%B1%EC%97%94%EB%93%9C-%EA%B0%9C%EB%B0%9C%EC%9E%90-%EB%A1%9C%EB%93%9C%EB%A7%B5?fbclid=IwAR0ncLwd2i7sK5yw-byITi5S-ROxreJdXaV6EWJhHwMJ52pAQNvsbPhpB_c)"
   ]
  }
 ],
 "metadata": {
  "kernelspec": {
   "display_name": "Python 3",
   "language": "python",
   "name": "python3"
  },
  "language_info": {
   "codemirror_mode": {
    "name": "ipython",
    "version": 3
   },
   "file_extension": ".py",
   "mimetype": "text/x-python",
   "name": "python",
   "nbconvert_exporter": "python",
   "pygments_lexer": "ipython3",
   "version": "3.7.6"
  }
 },
 "nbformat": 4,
 "nbformat_minor": 4
}
