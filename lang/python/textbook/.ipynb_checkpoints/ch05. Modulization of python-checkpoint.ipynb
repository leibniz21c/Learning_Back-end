{
 "cells": [
  {
   "cell_type": "markdown",
   "metadata": {},
   "source": [
    "# CH05 Modulization of python\n",
    "---\n",
    "# 1. Class\n",
    "#### 1. 구조\n",
    "```python\n",
    "class 클래스명:\n",
    "    변수1\n",
    "    변수2\n",
    "    ...\n",
    "    \n",
    "    메서드1\n",
    "    메서드2\n",
    "    ...\n",
    "```\n",
    "#### 2. type 함수\n",
    "type 함수는 매개변수가 어떤 자료형을 갖는지 말해준다.\n",
    "```python\n",
    "class FourCal:\n",
    "    pass\n",
    "\n",
    "a = FourCal()\n",
    "type(a)\n",
    "```\n",
    "```shell\n",
    "<class '__main__.FourCal'>\n",
    "```\n",
    "\n",
    "#### 3. 자기참조와 메서드\n",
    "self 키워드를 통해서 클래스내에서 자신을 참조할 수 있다.<br>\n",
    "추가적으로 파이썬에서 메서드를 선언할 때, 관례적으로 첫 번째 매개변수 이름은 self를\n",
    "사용한다.<br>\n",
    "객체를 호출할 때 호출한 객체 자신이 전달되기 때문에 self를 사용한 것이다."
   ]
  },
  {
   "cell_type": "code",
   "execution_count": 6,
   "metadata": {},
   "outputs": [
    {
     "name": "stdout",
     "output_type": "stream",
     "text": [
      "양 희성\n"
     ]
    }
   ],
   "source": [
    "class FourCal:\n",
    "    first = 0\n",
    "    second = 0\n",
    "    def setdata(self, first, second):\n",
    "        self.first = first\n",
    "        self.second = second\n",
    "\n",
    "a = FourCal()\n",
    "a.setdata(\"양\", \"희성\")\n",
    "print(str(a.first), str(a.second))"
   ]
  },
  {
   "cell_type": "code",
   "execution_count": 8,
   "metadata": {},
   "outputs": [
    {
     "name": "stdout",
     "output_type": "stream",
     "text": [
      "1 3\n"
     ]
    }
   ],
   "source": [
    "FourCal.setdata(a, 1, 3)\n",
    "print(a.first, a.second)"
   ]
  },
  {
   "cell_type": "code",
   "execution_count": 10,
   "metadata": {},
   "outputs": [
    {
     "name": "stdout",
     "output_type": "stream",
     "text": [
      "2339136468744 2339137981384\n"
     ]
    }
   ],
   "source": [
    "b = FourCal()\n",
    "print(id(a), id(b))"
   ]
  },
  {
   "cell_type": "markdown",
   "metadata": {},
   "source": [
    "#### 4. 생성자(Constructor)\n",
    "1. 구성\n",
    "```python\n",
    "# 예제\n",
    "class FourCal:\n",
    "    def __init__(self, first, second):\n",
    "        self.first = first\n",
    "        self.second = second\n",
    "```"
   ]
  },
  {
   "cell_type": "code",
   "execution_count": 13,
   "metadata": {},
   "outputs": [
    {
     "name": "stdout",
     "output_type": "stream",
     "text": [
      "7\n"
     ]
    }
   ],
   "source": [
    "class FourCal:\n",
    "    def __init__(self, first, second):\n",
    "        self.first = first\n",
    "        self.second = second\n",
    "# 생성자 안에서 변수를 선언해버릴 수 있다.\n",
    "        \n",
    "a = FourCal(3, 4)\n",
    "print(a.first+a.second)"
   ]
  },
  {
   "cell_type": "markdown",
   "metadata": {},
   "source": [
    "#### 5. 클래스의 상속(Inheritance)\n",
    "1. 구조\n",
    "```python\n",
    "class 클래스이름(상속할 클래스이름):\n",
    "        pass\n",
    "```"
   ]
  },
  {
   "cell_type": "code",
   "execution_count": 19,
   "metadata": {},
   "outputs": [
    {
     "name": "stdout",
     "output_type": "stream",
     "text": [
      "81\n"
     ]
    }
   ],
   "source": [
    "class MoreFourCal(FourCal):\n",
    "    def pow(self):\n",
    "        result = self.first ** self.second\n",
    "        return result\n",
    "\n",
    "a = MoreFourCal(3, 4)\n",
    "print(a.pow())"
   ]
  },
  {
   "cell_type": "markdown",
   "metadata": {},
   "source": [
    "#### 6. Method Overriding\n",
    "Trivial.\n",
    "\n",
    "---\n",
    "# 2. Module\n",
    "#### 1. 개요\n",
    "모듈이란 함수나 변수 또는 클래스를 모아 놓은 파일이다. 모듈은 다른 파이썬 프로그램에서 불러와 사용할 수 있게끔 만든 파이썬 파일이라고도 할 수 있다.<br>\n",
    "EX)NumPy 모듈, Pandas 모듈 등<br>\n",
    "파이썬은 굉장히 많은 모듈을 사용한다. 이때 모듈은 직접 만들어서 사용할 수도 있다.\n",
    "\n",
    "#### 2. 모듈만들기\n",
    "간단한 모듈을 한번 만들고 시작하자.\n"
   ]
  },
  {
   "cell_type": "code",
   "execution_count": null,
   "metadata": {},
   "outputs": [],
   "source": []
  }
 ],
 "metadata": {
  "kernelspec": {
   "display_name": "Python 3",
   "language": "python",
   "name": "python3"
  },
  "language_info": {
   "codemirror_mode": {
    "name": "ipython",
    "version": 3
   },
   "file_extension": ".py",
   "mimetype": "text/x-python",
   "name": "python",
   "nbconvert_exporter": "python",
   "pygments_lexer": "ipython3",
   "version": "3.7.6"
  }
 },
 "nbformat": 4,
 "nbformat_minor": 4
}
