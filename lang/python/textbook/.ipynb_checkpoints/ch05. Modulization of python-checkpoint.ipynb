{
 "cells": [
  {
   "cell_type": "markdown",
   "metadata": {},
   "source": [
    "# CH05 Modulization of python\n",
    "---\n",
    "# 1. Class\n",
    "#### 1. 구조\n",
    "```python\n",
    "class 클래스명:\n",
    "    변수1\n",
    "    변수2\n",
    "    ...\n",
    "    \n",
    "    메서드1\n",
    "    메서드2\n",
    "    ...\n",
    "```\n",
    "#### 2. type 함수\n",
    "type 함수는 매개변수가 어떤 자료형을 갖는지 말해준다.\n",
    "```python\n",
    "class FourCal:\n",
    "    pass\n",
    "\n",
    "a = FourCal()\n",
    "type(a)\n",
    "```\n",
    "```shell\n",
    "<class '__main__.FourCal'>\n",
    "```\n",
    "\n",
    "#### 3. 자기참조와 메서드\n",
    "self 키워드를 통해서 클래스내에서 자신을 참조할 수 있다.<br>\n",
    "추가적으로 파이썬에서 메서드를 선언할 때, 관례적으로 첫 번째 매개변수 이름은 self를\n",
    "사용한다.<br>\n",
    "객체를 호출할 때 호출한 객체 자신이 전달되기 때문에 self를 사용한 것이다."
   ]
  },
  {
   "cell_type": "code",
   "execution_count": 6,
   "metadata": {},
   "outputs": [
    {
     "name": "stdout",
     "output_type": "stream",
     "text": [
      "양 희성\n"
     ]
    }
   ],
   "source": [
    "class FourCal:\n",
    "    first = 0\n",
    "    second = 0\n",
    "    def setdata(self, first, second):\n",
    "        self.first = first\n",
    "        self.second = second\n",
    "\n",
    "a = FourCal()\n",
    "a.setdata(\"양\", \"희성\")\n",
    "print(str(a.first), str(a.second))"
   ]
  },
  {
   "cell_type": "code",
   "execution_count": 8,
   "metadata": {},
   "outputs": [
    {
     "name": "stdout",
     "output_type": "stream",
     "text": [
      "1 3\n"
     ]
    }
   ],
   "source": [
    "FourCal.setdata(a, 1, 3)\n",
    "print(a.first, a.second)"
   ]
  },
  {
   "cell_type": "code",
   "execution_count": 10,
   "metadata": {},
   "outputs": [
    {
     "name": "stdout",
     "output_type": "stream",
     "text": [
      "2339136468744 2339137981384\n"
     ]
    }
   ],
   "source": [
    "b = FourCal()\n",
    "print(id(a), id(b))"
   ]
  },
  {
   "cell_type": "markdown",
   "metadata": {},
   "source": [
    "#### 4. 생성자(Constructor)\n",
    "1. 구성\n",
    "```python\n",
    "# 예제\n",
    "class FourCal:\n",
    "    def __init__(self, first, second):\n",
    "        self.first = first\n",
    "        self.second = second\n",
    "```"
   ]
  },
  {
   "cell_type": "code",
   "execution_count": 13,
   "metadata": {},
   "outputs": [
    {
     "name": "stdout",
     "output_type": "stream",
     "text": [
      "7\n"
     ]
    }
   ],
   "source": [
    "class FourCal:\n",
    "    def __init__(self, first, second):\n",
    "        self.first = first\n",
    "        self.second = second\n",
    "# 생성자 안에서 변수를 선언해버릴 수 있다.\n",
    "        \n",
    "a = FourCal(3, 4)\n",
    "print(a.first+a.second)"
   ]
  },
  {
   "cell_type": "markdown",
   "metadata": {},
   "source": [
    "#### 5. 클래스의 상속(Inheritance)\n",
    "1. 구조\n",
    "```python\n",
    "class 클래스이름(상속할 클래스이름):\n",
    "        pass\n",
    "```"
   ]
  },
  {
   "cell_type": "code",
   "execution_count": 19,
   "metadata": {},
   "outputs": [
    {
     "name": "stdout",
     "output_type": "stream",
     "text": [
      "81\n"
     ]
    }
   ],
   "source": [
    "class MoreFourCal(FourCal):\n",
    "    def pow(self):\n",
    "        result = self.first ** self.second\n",
    "        return result\n",
    "\n",
    "a = MoreFourCal(3, 4)\n",
    "print(a.pow())"
   ]
  },
  {
   "cell_type": "markdown",
   "metadata": {},
   "source": [
    "#### 6. Method Overriding\n",
    "Trivial.\n",
    "\n",
    "---\n",
    "# 2. Module\n",
    "#### 1. 개요\n",
    "모듈이란 함수나 변수 또는 클래스를 모아 놓은 파일이다. 모듈은 다른 파이썬 프로그램에서 불러와 사용할 수 있게끔 만든 파이썬 파일이라고도 할 수 있다.<br>\n",
    "EX)NumPy 모듈, Pandas 모듈 등<br>\n",
    "파이썬은 굉장히 많은 모듈을 사용한다. 이때 모듈은 직접 만들어서 사용할 수도 있다.\n",
    "\n",
    "#### 2. 모듈만들기\n",
    "간단한 모듈을 한번 만들고 시작하자.\n"
   ]
  },
  {
   "cell_type": "code",
   "execution_count": 21,
   "metadata": {},
   "outputs": [],
   "source": [
    "# C:\\doit\\mod1.py\n",
    "def add(a, b):\n",
    "    return a+b\n",
    "def sub(a, b):\n",
    "    return a-b"
   ]
  },
  {
   "cell_type": "markdown",
   "metadata": {},
   "source": [
    "이때, 모듈을 가져오는 방법은 다음과 같다.\n",
    "```python\n",
    "# 현재 디렉토리 : C:\\doit\\\n",
    "import mod1  # 상대 경로를 사용했다.(절대 경로도 가능)\n",
    "\n",
    "mod1.add(3,4)\n",
    "```\n",
    "근데 문제는 add함수는 사용하고 싶은데, sub함수는 사용하기가 싫을 수 있다.<br>\n",
    "그리고 mod1이라는 모듈이름을 명시하지 않고 함수를 사용하고 싶다.<br>\n",
    "이때 다음과 같이 모듈에서 함수만 가져오면 바로 함수를 사용가능하다.\n",
    "```python\n",
    "from mod1 import add\n",
    "\n",
    "add(3, 4)\n",
    "```\n",
    "만약 sub함수도 사용하고 싶다면, 다음과 같이 사용한다.\n",
    "```python\n",
    "from mod1 import add, sub\n",
    "```\n",
    "만약 mod1의 모든 함수를 모듈 이름을 명시하지않고 사용하고 싶으면 다음과 같이 사용한다.\n",
    "```python\n",
    "from mod1 import *\n",
    "\n",
    "add(3, 4)\n",
    "sub(4, 2)\n",
    "```\n",
    "\n",
    "#### 3. 모듈실행 또는 불러오기시 자동동작의 원리\n",
    "1. if \\_\\_name\\_\\_ == \"\\_\\_main\\_\\_\"의 의미<br>\n",
    "mod1.py 파일을 다음과 같이 변경해 보자.<br>\n",
    "\n",
    "```python\n",
    "def add(a, b):\n",
    "    return a+b\n",
    "def sub(a, b):\n",
    "    return a-b\n",
    "\n",
    "print(add(1, 4)) # (1)\n",
    "print(sub(4, 2)) # (2)\n",
    "```\n",
    "\n",
    "이 모듈을 실행하면 (1)과 (2)가 실행이 된다. 문제는 이 모듈을 import해도 (1)과 (2)가 실행이된다. 이러한 문제를 방지하려면 mod1.py 파일을 다음처럼 변경해야 한다.\n",
    "\n",
    "```python\n",
    "def add(a, b):\n",
    "    return a+b\n",
    "def sub(a, b):\n",
    "    return a-b\n",
    "\n",
    "if __name__ == \"__main__\":\n",
    "    print(add(1, 4))\n",
    "    print(sub(4, 2))\n",
    "```\n",
    "\n",
    "if \\_\\_name\\_\\_ == \"\\_\\_main\\_\\_\"을 사용하면<br>\n",
    "``` $ python mod1,py ```<br>\n",
    "처럼 직접 이 파일을 실행했을 때는 if \\_\\_name\\_\\_ == \"\\_\\_main\\_\\_\"이 참이 되어 if문 다음 문장이 수행된다. 반대로 대화형 인터프리터나 다른 파일에서 이 모듈을 불러서 사용할 때는 if \\_\\_name\\_\\_ == \"\\_\\_main\\_\\_\"이 거짓이 되어 if문 다음 문장이 수행되지 않는다.<br><br><br>\n",
    "<strong>\\_\\_name\\_\\_</strong> 변수란 파이썬이 내부적으로 사용하는 특별한 변수 이름이다. 만약 mod1.py처럼 직접 mod1.py 파일을 실행할 경우 mod1.py의 <strong>\\_\\_name\\_\\_</strong> 변수에는 \"\\_\\_main\\_\\_\" 값이 저장된다. 하지만 파이썬 쉘이나 다른 파이썬 모듈에서 mod1을 import할 경우에는 mod1.py의 <strong>\\_\\_name\\_\\_</strong> 변수에는 mod1.py의 모듈 이름 값 \"mod1\"이 저장된다.<br>\n",
    "\n",
    "\n",
    "#### 4. 클래스나 변수 등을 포함한 모듈\n",
    "Trivial.\n",
    "\n"
   ]
  },
  {
   "cell_type": "markdown",
   "metadata": {},
   "source": [
    "---\n",
    "# 3. Package\n",
    "#### 1. 개요\n",
    "패키지는 도트(.)를 사용하여 파이썬 모듈을 계층적(디렉토리 구조)으로 관리할 수 있게 해준다. 예를 들어 모듈 이름이 A.B인 경우에 A는 패키지 이름이 되고 B는 A 패키지의 B모듈이 된다.\n",
    "\n",
    "#### 2. 패키지의 구조\n",
    "가상의 game 패키지의 예시는 다음과 같다.\n",
    "```shell\n",
    "game/\n",
    "    __init__.py\n",
    "    sound/\n",
    "        __init__.py\n",
    "        echo.py\n",
    "        wav.py\n",
    "    graphic/\n",
    "        __init__.py\n",
    "        screen.py\n",
    "        render.py\n",
    "    play/\n",
    "        __init__.py\n",
    "        run.py\n",
    "        test.py\n",
    "```\n",
    "위에서 game, sound, graphic, play는 디렉토리의 이름이고 확장자가 .py인 파일은 파이썬의 모듈이다. game 디렉토리가 이 패키지의 루트 디렉토리이고 sound, graphic, play"
   ]
  },
  {
   "cell_type": "code",
   "execution_count": null,
   "metadata": {},
   "outputs": [],
   "source": []
  }
 ],
 "metadata": {
  "kernelspec": {
   "display_name": "Python 3",
   "language": "python",
   "name": "python3"
  },
  "language_info": {
   "codemirror_mode": {
    "name": "ipython",
    "version": 3
   },
   "file_extension": ".py",
   "mimetype": "text/x-python",
   "name": "python",
   "nbconvert_exporter": "python",
   "pygments_lexer": "ipython3",
   "version": "3.7.6"
  }
 },
 "nbformat": 4,
 "nbformat_minor": 4
}
