{
 "cells": [
  {
   "cell_type": "markdown",
   "metadata": {},
   "source": [
    "# CH05 Modulization of python\n",
    "---\n",
    "# 1. Class\n",
    "#### 1. 구조\n",
    "```python\n",
    "class 클래스명:\n",
    "    변수1\n",
    "    변수2\n",
    "    ...\n",
    "    \n",
    "    메서드1\n",
    "    메서드2\n",
    "    ...\n",
    "```\n",
    "#### 2. type 함수\n",
    "type 함수는 매개변수가 어떤 자료형을 갖는지 말해준다.\n",
    "```python\n",
    "class FourCal:\n",
    "    pass\n",
    "\n",
    "a = FourCal()\n",
    "type(a)\n",
    "```\n",
    "```shell\n",
    "<class '__main__.FourCal'>\n",
    "```\n",
    "\n",
    "#### 3. 자기참조와 메서드\n",
    "self 키워드를 통해서 클래스내에서 자신을 참조할 수 있다.<br>\n",
    "추가적으로 파이썬에서 메서드를 선언할 때, 관례적으로 첫 번째 매개변수 이름은 self를\n",
    "사용한다.<br>\n",
    "객체를 호출할 때 호출한 객체 자신이 전달되기 때문에 self를 사용한 것이다."
   ]
  },
  {
   "cell_type": "code",
   "execution_count": 6,
   "metadata": {},
   "outputs": [
    {
     "name": "stdout",
     "output_type": "stream",
     "text": [
      "양 희성\n"
     ]
    }
   ],
   "source": [
    "class FourCal:\n",
    "    first = 0\n",
    "    second = 0\n",
    "    def setdata(self, first, second):\n",
    "        self.first = first\n",
    "        self.second = second\n",
    "\n",
    "a = FourCal()\n",
    "a.setdata(\"양\", \"희성\")\n",
    "print(str(a.first), str(a.second))"
   ]
  },
  {
   "cell_type": "code",
   "execution_count": 8,
   "metadata": {},
   "outputs": [
    {
     "name": "stdout",
     "output_type": "stream",
     "text": [
      "1 3\n"
     ]
    }
   ],
   "source": [
    "FourCal.setdata(a, 1, 3)\n",
    "print(a.first, a.second)"
   ]
  },
  {
   "cell_type": "code",
   "execution_count": 10,
   "metadata": {},
   "outputs": [
    {
     "name": "stdout",
     "output_type": "stream",
     "text": [
      "2339136468744 2339137981384\n"
     ]
    }
   ],
   "source": [
    "b = FourCal()\n",
    "print(id(a), id(b))"
   ]
  },
  {
   "cell_type": "markdown",
   "metadata": {},
   "source": [
    "#### 4. 생성자(Constructor)\n",
    "1. 구성\n",
    "```python\n",
    "# 예제\n",
    "class FourCal:\n",
    "    def __init__(self, first, second):\n",
    "        self.first = first\n",
    "        self.second = second\n",
    "```"
   ]
  },
  {
   "cell_type": "code",
   "execution_count": 13,
   "metadata": {},
   "outputs": [
    {
     "name": "stdout",
     "output_type": "stream",
     "text": [
      "7\n"
     ]
    }
   ],
   "source": [
    "class FourCal:\n",
    "    def __init__(self, first, second):\n",
    "        self.first = first\n",
    "        self.second = second\n",
    "# 생성자 안에서 변수를 선언해버릴 수 있다.\n",
    "        \n",
    "a = FourCal(3, 4)\n",
    "print(a.first+a.second)"
   ]
  },
  {
   "cell_type": "markdown",
   "metadata": {},
   "source": [
    "#### 5. 클래스의 상속(Inheritance)\n",
    "1. 구조\n",
    "```python\n",
    "class 클래스이름(상속할 클래스이름):\n",
    "        pass\n",
    "```"
   ]
  },
  {
   "cell_type": "code",
   "execution_count": 19,
   "metadata": {},
   "outputs": [
    {
     "name": "stdout",
     "output_type": "stream",
     "text": [
      "81\n"
     ]
    }
   ],
   "source": [
    "class MoreFourCal(FourCal):\n",
    "    def pow(self):\n",
    "        result = self.first ** self.second\n",
    "        return result\n",
    "\n",
    "a = MoreFourCal(3, 4)\n",
    "print(a.pow())"
   ]
  },
  {
   "cell_type": "markdown",
   "metadata": {},
   "source": [
    "#### 6. Method Overriding\n",
    "Trivial.\n",
    "\n",
    "---\n",
    "# 2. Module\n",
    "#### 1. 개요\n",
    "모듈이란 함수나 변수 또는 클래스를 모아 놓은 파일이다. 모듈은 다른 파이썬 프로그램에서 불러와 사용할 수 있게끔 만든 파이썬 파일이라고도 할 수 있다.<br>\n",
    "EX)NumPy 모듈, Pandas 모듈 등<br>\n",
    "파이썬은 굉장히 많은 모듈을 사용한다. 이때 모듈은 직접 만들어서 사용할 수도 있다.\n",
    "\n",
    "#### 2. 모듈만들기\n",
    "간단한 모듈을 한번 만들고 시작하자.\n"
   ]
  },
  {
   "cell_type": "code",
   "execution_count": 21,
   "metadata": {},
   "outputs": [],
   "source": [
    "# C:\\doit\\mod1.py\n",
    "def add(a, b):\n",
    "    return a+b\n",
    "def sub(a, b):\n",
    "    return a-b"
   ]
  },
  {
   "cell_type": "markdown",
   "metadata": {},
   "source": [
    "이때, 모듈을 가져오는 방법은 다음과 같다.\n",
    "```python\n",
    "# 현재 디렉토리 : C:\\doit\\\n",
    "import mod1  # 상대 경로를 사용했다.(절대 경로도 가능)\n",
    "\n",
    "mod1.add(3,4)\n",
    "```\n",
    "근데 문제는 add함수는 사용하고 싶은데, sub함수는 사용하기가 싫을 수 있다.<br>\n",
    "그리고 mod1이라는 모듈이름을 명시하지 않고 함수를 사용하고 싶다.<br>\n",
    "이때 다음과 같이 모듈에서 함수만 가져오면 바로 함수를 사용가능하다.\n",
    "```python\n",
    "from mod1 import add\n",
    "\n",
    "add(3, 4)\n",
    "```\n",
    "만약 sub함수도 사용하고 싶다면, 다음과 같이 사용한다.\n",
    "```python\n",
    "from mod1 import add, sub\n",
    "```\n",
    "만약 mod1의 모든 함수를 모듈 이름을 명시하지않고 사용하고 싶으면 다음과 같이 사용한다.\n",
    "```python\n",
    "from mod1 import *\n",
    "\n",
    "add(3, 4)\n",
    "sub(4, 2)\n",
    "```\n",
    "\n",
    "#### 3. 모듈실행 또는 불러오기시 자동동작의 원리\n",
    "1. if \\_\\_name\\_\\_ == \"\\_\\_main\\_\\_\"의 의미<br>\n",
    "mod1.py 파일을 다음과 같이 변경해 보자.<br>\n",
    "\n",
    "```python\n",
    "def add(a, b):\n",
    "    return a+b\n",
    "def sub(a, b):\n",
    "    return a-b\n",
    "\n",
    "print(add(1, 4)) # (1)\n",
    "print(sub(4, 2)) # (2)\n",
    "```\n",
    "\n",
    "이 모듈을 실행하면 (1)과 (2)가 실행이 된다. 문제는 이 모듈을 import해도 (1)과 (2)가 실행이된다. 이러한 문제를 방지하려면 mod1.py 파일을 다음처럼 변경해야 한다.\n",
    "\n",
    "```python\n",
    "def add(a, b):\n",
    "    return a+b\n",
    "def sub(a, b):\n",
    "    return a-b\n",
    "\n",
    "if __name__ == \"__main__\":\n",
    "    print(add(1, 4))\n",
    "    print(sub(4, 2))\n",
    "```\n",
    "\n",
    "if \\_\\_name\\_\\_ == \"\\_\\_main\\_\\_\"을 사용하면<br>\n",
    "``` $ python mod1,py ```<br>\n",
    "처럼 직접 이 파일을 실행했을 때는 if \\_\\_name\\_\\_ == \"\\_\\_main\\_\\_\"이 참이 되어 if문 다음 문장이 수행된다. 반대로 대화형 인터프리터나 다른 파일에서 이 모듈을 불러서 사용할 때는 if \\_\\_name\\_\\_ == \"\\_\\_main\\_\\_\"이 거짓이 되어 if문 다음 문장이 수행되지 않는다.<br><br><br>\n",
    "<strong>\\_\\_name\\_\\_</strong> 변수란 파이썬이 내부적으로 사용하는 특별한 변수 이름이다. 만약 mod1.py처럼 직접 mod1.py 파일을 실행할 경우 mod1.py의 <strong>\\_\\_name\\_\\_</strong> 변수에는 \"\\_\\_main\\_\\_\" 값이 저장된다. 하지만 파이썬 쉘이나 다른 파이썬 모듈에서 mod1을 import할 경우에는 mod1.py의 <strong>\\_\\_name\\_\\_</strong> 변수에는 mod1.py의 모듈 이름 값 \"mod1\"이 저장된다.<br>\n",
    "\n",
    "\n",
    "#### 4. 클래스나 변수 등을 포함한 모듈\n",
    "Trivial.\n",
    "\n"
   ]
  },
  {
   "cell_type": "markdown",
   "metadata": {},
   "source": [
    "---\n",
    "# 3. Package\n",
    "#### 1. 개요\n",
    "패키지는 도트(.)를 사용하여 파이썬 모듈을 계층적(디렉토리 구조)으로 관리할 수 있게 해준다. 예를 들어 모듈 이름이 A.B인 경우에 A는 패키지 이름이 되고 B는 A 패키지의 B모듈이 된다.\n",
    "\n",
    "#### 2. 패키지의 구조\n",
    "가상의 game 패키지의 예시는 다음과 같다.\n",
    "```shell\n",
    "game/\n",
    "    __init__.py\n",
    "    sound/\n",
    "        __init__.py\n",
    "        echo.py\n",
    "        wav.py\n",
    "    graphic/\n",
    "        __init__.py\n",
    "        screen.py\n",
    "        render.py\n",
    "    play/\n",
    "        __init__.py\n",
    "        run.py\n",
    "        test.py\n",
    "```\n",
    "위에서 game, sound, graphic, play는 디렉토리의 이름이고 확장자가 .py인 파일은 파이썬의 모듈이다. game 디렉토리가 이 패키지의 루트 디렉토리이고 sound, graphic, play는 서브 디렉토리이다. 간단한 파이썬 프로그램이 아니라면 이렇게 패키지 구조로 파이썬 프로그램을 만드는 것이 공동 작업이나 유지 보수 등 여러 면에서 유리하다. 또한 패키지 구조로 모듈을 만들면 다른 모듈과 이름이 겹치더라도 더 안전하게 사용할 수 있다.\n",
    "\n",
    "#### 3. 패키지 만들기\n",
    "패키지의 기본 골격이 되는 디렉토리 구조를 형성한다.<br>\n",
    "디렉토리에는 \\_\\_init\\_\\_.py 파일을 생성해두어야한다.<br>\n",
    "```shell\n",
    "C:/doit/game/__init__.py\n",
    "C:/doit.game/sound/__init__.py\n",
    "C:/doit/game/sound/echo.py\n",
    "C:/doit/game/graphic/__init__.py\n",
    "C:/doit/game/graphic/render.py\n",
    "```\n",
    "위와 같이 각 디렉토리에 \\_\\_init\\_\\_.py 파일을 만들어 놓기만 하고 내용은 일단 비워 둔다.<br><br>\n",
    "ehco.py 파일과 render.py 파일을 구성한다.\n",
    "```python\n",
    "#echo.py\n",
    "def echo_test():\n",
    "    print(\"echo\")\n",
    "```\n",
    "<br>\n",
    "```python\n",
    "#render.py\n",
    "def render_test():\n",
    "    print(\"render\")\n",
    "```\n",
    "패키지가 상대경로내에 존재하지 않는다면 언제든지 game 패키지를 참조할 수 있도록 명령 프롬프트 창에서 set 명령어로 PYTHONPATH 환경 변수에 C:/doit 디렉토리를 추가한다.\n",
    "```shell\n",
    "C:\\> set PYTHONPATH=C:/doit\n",
    "```\n",
    "<br><br>\n",
    "#### 4. 패키지안의 함수 실행하기\n",
    "1. Global package를 import하여 실행\n",
    "```python\n",
    "import game.sound.echo\n",
    "game.sound.echo.echo_test()\n",
    "```\n",
    "<br>\n",
    "2. subpackage를 import하여 실행\n",
    "```python\n",
    "from game.sound import echo\n",
    "echo.echo_test()\n",
    "```\n",
    "<br>\n",
    "3. 함수를 importo하여 실행\n",
    "```python\n",
    "from game.sound.echo import echo_test\n",
    "echo_test()\n",
    "```\n",
    "<br><br>\n",
    "만약 game 디렉토리를 import한다면 game 디렉토리의 모듈 또는 game 디렉토리의 \\_\\_init\\_\\_.py에 정의한 것만 참조할 수 있다. 따라서 다음 예시는 불가능하다.\n",
    "```python\n",
    "import game\n",
    "game.sound.echo.echo_test()\n",
    "```\n",
    "도트 연산자(.)를 사용해서 import할 때 가장 마지막 항목은 반드시 모듈 또는 패키지여야만 한다. 따라서 다음 예시도 불가능하다.\n",
    "```python\n",
    "import game.sound.echo.echo_test\n",
    "```\n",
    "당연히 echo_test만 from 연산자와 함께 사용해서 import하는 것은 가능하다.\n",
    "```python\n",
    "from game.sound.echo import echo_test\n",
    "```\n",
    "\n",
    "#### 5. \\_\\_init\\_\\_.py의 용도\n",
    "\\_\\_init\\_\\_.py 파일은 해당 디렉토리가 패키지의 일부임을 알려주는 역활을 한다. 만약 game, sound, graphic 등 패키지에 포함된 디렉토리에 \\_\\_init\\_\\_.py 파일이 없다면 패키지로 인식되지 않는다. (사실 python3.3부터는 파일이 없어도 패키지로 인식하는데 하위 버전 호환을 고려하면 파일을 생성하는 것이 안전하다.)\n",
    "<br><br>\n",
    "만약 game.sound 패키지에서 모든 것(\\*)을 import하면 echo 모듈을 사용할 수 있어야 할 것 같은데 echo라는 이름이 정의되지 않았다는 이름 오류가 발생한다.\n",
    "<br><br>\n",
    "이렇게 특정 디렉토리의 모듈을 \\*를 사용하여 import할 때에는 다음과 같은 해당 디렉토리의 \\_\\_init\\_\\_.py 파일에 \\_\\_all\\_\\_ 변수를 설정하고 import 할 수 있는 모듈을 정의해 주어야한다.\n",
    "```python\n",
    "#sound.__init__.py\n",
    "__all__ = ['echo'] # 패키지만 포함이다.\n",
    "```\n",
    "여기에서 \\_\\_all\\_\\_이 의미하는 것은 sound 디렉토리에서 \\* 기호를 사용하여 import할 경우 이곳에 정의된 echo 모듈만 import된다는 의미이다.<br>\n",
    "패키지만 포함이라서 다음의 예시는 \\_\\_init\\_\\_.py에서 정의하지 않아도 가능하다.\n",
    "```python\n",
    "from game.sound.echo import *\n",
    "```\n",
    "\n",
    "#### 6. relative 패키지\n",
    "```python \n",
    "# render.py\n",
    "from ..sound.echo import echo_test # 여기서 ..는 부모 디렉토리를 의미한다.\n",
    "\n",
    "def render_test():\n",
    "    print(\"render\")\n",
    "    echo_test()\n",
    "```\n",
    "relative한 접근자에는 다음과 같은 것이 있다.<br><br>\n",
    "    \n",
    ".. : 부모 디렉토리<br>\n",
    ".  : 현재 디렉토리<br><br>\n"
   ]
  },
  {
   "cell_type": "markdown",
   "metadata": {},
   "source": [
    "---\n",
    "# 4. 예외 처리\n",
    "#### 1. 개요\n",
    "프로그램을 만들다 보면 수없이 많은 오류를 만나게 된다. 물론 오류가 발생하는 이유는 프로그램이 잘못 동작하는 것을 막기 위한 파이썬의 배려이다. 하지만 때때로 이러한 오류를 무시하고 싶을 때도 있다. 이를 위해 파이썬은 try, except를 사용해서 예외적으로 오류를 처리할 수 있게 해준다.\n",
    "\n",
    "#### 2. 오류가 발생하는 상황\n",
    "Trivial.\n",
    "\n",
    "#### 3. 오류 예외 처리 기법(try, except)\n",
    "유연한 프로그래밍을 위한 오류 처리 기법에 대해 살펴보자\n",
    "1. 구조\n",
    "```python\n",
    "try:\n",
    "    ...\n",
    "except [발생 오류[as 오류 메시지 변수]]:\n",
    "    ...\n",
    "```\n",
    "try 블록 수행 중 오류가 발생하면 except 블록이 수행된다. 하지만 try 블록에서 오류가 발생하지 않는다면 except 블록은 수행되지 않는다.\n",
    "\n",
    "```except[발생 오류[as 오류 메시지 변수]]: ```<br>\n",
    "위 구문을 보면 []기호를 사용하는데, 이 기호는 괄호안의 내용을 생략할 수 있다는 관례 표기법이다. 즉 except 구문은 다음 3가지 방법으로 사용할 수 있다.\n"
   ]
  },
  {
   "cell_type": "markdown",
   "metadata": {},
   "source": [
    "- try, except만 쓰는 방법\n",
    "```python\n",
    "try:\n",
    "    ...\n",
    "except:\n",
    "    ...\n",
    "```\n",
    "이 경우는 오류 종류에 상관없이 오류가 발생하면 except 블록을 수행한다."
   ]
  },
  {
   "cell_type": "markdown",
   "metadata": {},
   "source": [
    "- 발생 오류만 포함한 except문\n",
    "```python\n",
    "try:\n",
    "    ...\n",
    "except 발생 오류:\n",
    "    ...\n",
    "```\n",
    "이 경우는 오류가 발생했을 때 except문에 미리 정해놓은 오류 이름과 일치할 때만 except 블록을 수행한다."
   ]
  },
  {
   "cell_type": "markdown",
   "metadata": {},
   "source": [
    "- 발생 오류와 오류 메시지 변수까지 포함한 except문\n",
    "```python\n",
    "try:\n",
    "    ...\n",
    "except 발생 오류 as 오류 메시지 변수:\n",
    "    ...\n",
    "```\n",
    "이 경우는 두 번째 경우에서 오류 메시지의 내용까지 알고 싶을 때 사용하는 방법이다."
   ]
  },
  {
   "cell_type": "code",
   "execution_count": 1,
   "metadata": {},
   "outputs": [
    {
     "name": "stdout",
     "output_type": "stream",
     "text": [
      "division by zero\n"
     ]
    }
   ],
   "source": [
    "try:\n",
    "    4 / 0\n",
    "except ZeroDivisionError as e:\n",
    "    print(e)"
   ]
  },
  {
   "cell_type": "markdown",
   "metadata": {},
   "source": [
    "#### 2. try .. finally\n",
    "try문에는 finally절을 사용할 수 있다. finally절은 try문 수행 도중 예외 발생 여부에 상관없이 항상 수행된다. 보통 finally절은 사용한 리소스를 close해야 할 때에 많이 사용한다. "
   ]
  },
  {
   "cell_type": "code",
   "execution_count": 8,
   "metadata": {},
   "outputs": [],
   "source": [
    "f = open('foo.txt', 'w')\n",
    "try :\n",
    "    # 무언가를 수행한다.\n",
    "    1 + 1\n",
    "finally :\n",
    "    f.close()"
   ]
  },
  {
   "cell_type": "markdown",
   "metadata": {},
   "source": [
    "#### 3. 여러개의 오류처리하기\n",
    "try문 안에서 여러 개의 오류를 처리하기 위해 다음 구문을 사용한다.\n",
    "```python\n",
    "try:\n",
    "    ...\n",
    "except 발생 오류1:\n",
    "    ...\n",
    "except 발생 오류2:\n",
    "    ...\n",
    "...\n",
    "```\n",
    "예시는 다음과 같다."
   ]
  },
  {
   "cell_type": "code",
   "execution_count": 9,
   "metadata": {},
   "outputs": [
    {
     "name": "stdout",
     "output_type": "stream",
     "text": [
      "list index out of range\n"
     ]
    }
   ],
   "source": [
    "try:\n",
    "    a = [1, 2]\n",
    "    print(a[3])\n",
    "    4 / 0\n",
    "except ZeroDivisionError as e1:\n",
    "    print(e1)\n",
    "except IndexError as e2:\n",
    "    print(e2)"
   ]
  },
  {
   "cell_type": "code",
   "execution_count": 12,
   "metadata": {},
   "outputs": [
    {
     "name": "stdout",
     "output_type": "stream",
     "text": [
      "list index out of range\n"
     ]
    }
   ],
   "source": [
    "try:\n",
    "    a = [1, 2]\n",
    "    print(a[3])\n",
    "    4 / 0\n",
    "except (ZeroDivisionError, IndexError) as e:\n",
    "    print(e)"
   ]
  },
  {
   "cell_type": "markdown",
   "metadata": {},
   "source": [
    "물론 모든 예외처리에 있어서 pass 키워드를 이용한 오류 회피도 가능하다.\n",
    "\n",
    "#### 4. 사용자 정의 예외\n",
    "프로그램 수행 도중 특수한 경우에만 예외 처리를 하기 위해서 종종 예외를 만들어서 사용한다. 직접 예외를 만들어 보자. 예외 클래스는 무조건 Exception 클래스를 상속하여 만들 수 있다. 이후 raise 키워드를 통해서 에러를 발생시킬 수 있다."
   ]
  },
  {
   "cell_type": "code",
   "execution_count": 15,
   "metadata": {},
   "outputs": [
    {
     "name": "stdout",
     "output_type": "stream",
     "text": [
      "천사\n",
      "허용되지 않는 벌명입니다.\n",
      "Error Number : 1\n"
     ]
    }
   ],
   "source": [
    "class MyError(Exception):\n",
    "    errono = 1\n",
    "\n",
    "\n",
    "def say_nick(nick):\n",
    "    if nick == '바보':\n",
    "        raise MyError()\n",
    "    print(nick)\n",
    "\n",
    "try:\n",
    "    say_nick('천사')\n",
    "    say_nick('바보')\n",
    "except MyError as e:\n",
    "    print('허용되지 않는 벌명입니다.')\n",
    "    print('Error Number :', e.errono)"
   ]
  },
  {
   "cell_type": "code",
   "execution_count": null,
   "metadata": {},
   "outputs": [],
   "source": []
  }
 ],
 "metadata": {
  "kernelspec": {
   "display_name": "Python 3",
   "language": "python",
   "name": "python3"
  },
  "language_info": {
   "codemirror_mode": {
    "name": "ipython",
    "version": 3
   },
   "file_extension": ".py",
   "mimetype": "text/x-python",
   "name": "python",
   "nbconvert_exporter": "python",
   "pygments_lexer": "ipython3",
   "version": "3.7.6"
  }
 },
 "nbformat": 4,
 "nbformat_minor": 4
}
