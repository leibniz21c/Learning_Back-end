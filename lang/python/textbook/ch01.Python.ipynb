{
 "cells": [
  {
   "cell_type": "markdown",
   "metadata": {},
   "source": [
    "# CH01 Python\n",
    "---\n",
    "### 1. 특징\n",
    "\t- 인터프리터 언어\n",
    "\t- 구글의 소프트웨어의 50%이상이 파이썬으로 작성\n",
    "\t- 인스타그램, 드롭박스도 파이썬으로 작성\n",
    "\t- 공동 작업과 유지 보수가 매우 쉬움\n",
    "\t- 인간다운 언어(HLL)\n",
    "\t- 쉬운 문법\n",
    "\t- 오픈 소스(무료)\n",
    "\t- 전반적인 뼈대는 파이썬으로 만들고, 빠른 실행 속도가 필요한 부분은 C로 만들어서 파이썬 프로그램 안에 포함시킬 수 있음.\n",
    "\t- 간결하다.\n",
    "\t- 들여쓰기가 무조건 필요하다.(가독성이 높다)\n",
    "\t- Life is too short, You need python.\n",
    "---\n",
    "### 2. 파이썬으로 할 수 있는 일\n",
    "1. 시스템 유틸리티 제작\n",
    "\t- Windows, Linux 등의 시스템 명령어를 사용할 수 있는 각종 도구를 갖추고 있기 때문에 시스템 유틸리티를 만드는 데 유리하다. \n",
    "2. GUI 프로그래밍\n",
    "\t- 대표적인 예로 파이썬 프로그램과 함께 설치되는 Tkinter가 있다. 5줄의 소스 코드만으로 윈도우 창을 띄울 수 있다.\n",
    "3. C/C++와의 결함\n",
    "\t- NumPy같은 모듈들이 C로 작성된거라서 빠르다.\n",
    "\t- 여러 모듈을 C로 만들어서 파이썬에서 동작할 수 있다.\n",
    "4. 웹 프로그래밍\n",
    "\t- 웹 서핑을 하면서 게시판이나 방명록에 글을 남겨 본 적이 있는데, 이러한 게시판이나 방명록을 웹 프로그램이라고 한다. 파이썬은 웹 프로그램을 만들기에 매우 적합한 도구이다.\n",
    "5. 수치 연산 프로그래밍\n",
    "\t- C와 결합이되기 때문에 수치가 복잡하고 연산이 많은 수치 연산 프로그래밍이 적합하다. \n",
    "6. 데이터베이스 프로그래밍\n",
    "\t- Sybase, Infomix, Oracle, MySQL, PostgreSQL 등의 데이터베이스에 접근하기 위한 도구를 제공한다\n",
    "\t- pickle이라는 파이썬 모듈은 파이썬에서 사용하는 자료를 변형 없이 그대로 파일에 저장하고 불러오는 일을 맡아 한다. \n",
    "7. 데이터 분석, 사물 인터넷\n",
    "\t- Pandas 모듈을 사용하면 데이터 분석을 더 쉽고 효과적으로 할 수 있다. 데이터 분석을 할 때 R을 사용하는 경우가 굉장히 많지만 파이썬을 사용하는 경우가 점점 증가하는 추세이다.\n",
    "\t- 사물 인터넷 분야에서도 파이썬은 활용도가 높다. 라즈베리파이는 리눅스 기반의 아주 작은 컴퓨터인데 파이썬은 이 라즈베리파이를 제어하는 도구로 사용된다.\n",
    "---\n",
    "### 3. 파이썬으로 할 수 없는 일\n",
    "1. 시스템과 밀접한 프로그래밍 영역\n",
    "\t- 리눅스 같은 운영체제, 엄청난 횟수의 반복과 연산이 필요한 프로그램, 데이터 압축 알고리즘 개발 프로그램 등을 만드는 것은 어렵다. 즉, 대단히 빠른 속도를 요구하거나 하드웨어를 직접 건드려야 하는 프로그램에는 어울리지 않는다.\n",
    "2. 모바일 프로그래밍\n",
    "\t- 구글이 애용하는 언어이지만 안드로이드 앱을 개발하는 것은 아직 어렵다. 물론 안드로이드에서 파이썬으로 만든 프로그램이 실행되도록 지원하긴 하지만 이것만으로 앱을 만들기에는 아직 역부족이다. 아이폰 앱을 개발하는 것 역시 파이썬으로 할 수 없다.\n",
    "---\n",
    "### 3. 파이썬설치\n",
    "Trivial.\n",
    "\n",
    "---\n",
    "### 4. 둘러보기\n",
    "Trivial.\n",
    "\n",
    "---\n",
    "### 5. 주석"
   ]
  },
  {
   "cell_type": "code",
   "execution_count": 3,
   "metadata": {},
   "outputs": [],
   "source": [
    "# 이것이 한 줄 주석."
   ]
  },
  {
   "cell_type": "code",
   "execution_count": 7,
   "metadata": {},
   "outputs": [
    {
     "data": {
      "text/plain": [
       "'\\nAuthor: Heesung Yang\\nDate : 2020-06-26\\n이 것은 여러줄 주석\\n'"
      ]
     },
     "execution_count": 7,
     "metadata": {},
     "output_type": "execute_result"
    }
   ],
   "source": [
    "\"\"\"\n",
    "Author: Heesung Yang\n",
    "Date : 2020-06-26\n",
    "이 것은 여러줄 주석\n",
    "\"\"\""
   ]
  },
  {
   "cell_type": "markdown",
   "metadata": {},
   "source": [
    "---\n",
    "### 6. IDE 선택하기\n",
    "VSCode"
   ]
  },
  {
   "cell_type": "code",
   "execution_count": null,
   "metadata": {},
   "outputs": [],
   "source": []
  }
 ],
 "metadata": {
  "kernelspec": {
   "display_name": "Python 3",
   "language": "python",
   "name": "python3"
  },
  "language_info": {
   "codemirror_mode": {
    "name": "ipython",
    "version": 3
   },
   "file_extension": ".py",
   "mimetype": "text/x-python",
   "name": "python",
   "nbconvert_exporter": "python",
   "pygments_lexer": "ipython3",
   "version": "3.7.6"
  }
 },
 "nbformat": 4,
 "nbformat_minor": 4
}
