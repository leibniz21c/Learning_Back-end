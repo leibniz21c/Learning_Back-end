{
 "cells": [
  {
   "cell_type": "markdown",
   "metadata": {},
   "source": [
    "# CH04 Function and Input, Output\n",
    "---\n",
    "# 1. Function\n",
    "#### 1. 구조\n",
    "```python\n",
    "def 함수명(매개변수):\n",
    "    수행할 문장1\n",
    "    수행할 문장2\n",
    "```\n",
    "#### 2. 입력값이 몇 개가 될지 모를때의 상황\n",
    "```python\n",
    "def 함수이름(*매개변수):\n",
    "    수행할 문장1\n",
    "    수행할 문장2\n",
    "```"
   ]
  },
  {
   "cell_type": "code",
   "execution_count": 1,
   "metadata": {},
   "outputs": [],
   "source": [
    "def add_many(*args):\n",
    "    result = 0\n",
    "    for i in args:\n",
    "        result = result + i\n",
    "    return result"
   ]
  },
  {
   "cell_type": "markdown",
   "metadata": {},
   "source": [
    "3. 키워드 파라미터 kwargs<br>\n",
    "키워드 파라미터를 사용할 때는 매개변수 앞에 별 두 개를 붙인다.<br>\n",
    "이때 받는 값은 딕셔너리 형태가 되고 예제를 확인해보자."
   ]
  },
  {
   "cell_type": "code",
   "execution_count": 2,
   "metadata": {},
   "outputs": [
    {
     "name": "stdout",
     "output_type": "stream",
     "text": [
      "{'a': 1}\n",
      "{'name': 'foo', 'age': 3}\n"
     ]
    }
   ],
   "source": [
    "def print_kwargs(**kwargs):\n",
    "    print(kwargs)\n",
    "\n",
    "print_kwargs(a=1)\n",
    "print_kwargs(name='foo', age=3)"
   ]
  },
  {
   "cell_type": "markdown",
   "metadata": {},
   "source": [
    "4. 매개변수 값의 디폴트 지정"
   ]
  },
  {
   "cell_type": "code",
   "execution_count": 18,
   "metadata": {},
   "outputs": [
    {
     "name": "stdout",
     "output_type": "stream",
     "text": [
      "양희성True20\n"
     ]
    }
   ],
   "source": [
    "def say(name, man, old=20): #이런건 됨.(뒤에부터 초기화 O)\n",
    "    print(str(name) + str(man) + str(old))\n",
    "\n",
    "# def say_myself(name='홍길동', man, old): # 이런건 안됨.(앞에가 초기화 X)\n",
    "#     print(name + man + old)\n",
    "\n",
    "say(name=\"양희성\", man=True) # 순서때문에 위에거 같은건 안되는거임."
   ]
  },
  {
   "cell_type": "markdown",
   "metadata": {},
   "source": [
    "5. 함수 안에서 함수 밖의 변수를 변경하기"
   ]
  },
  {
   "cell_type": "code",
   "execution_count": 20,
   "metadata": {},
   "outputs": [
    {
     "name": "stdout",
     "output_type": "stream",
     "text": [
      "3\n"
     ]
    }
   ],
   "source": [
    "# return을 이용해도 되지만, global 명령어를 사용할 수 도있다. 근데 쓰지말자.\n",
    "a = 1\n",
    "\n",
    "def vartest():\n",
    "    global a # 함수 안에서 함수 밖의 a 변수를 직접 서용하겠다.\n",
    "    a = a + 1\n",
    "    \n",
    "vartest()\n",
    "vartest()\n",
    "print(a)"
   ]
  },
  {
   "cell_type": "markdown",
   "metadata": {},
   "source": [
    "# 2. 사용자 입력, 출력\n",
    "#### 1. input 함수의 사용\n",
    "input은 입력되는 모든 것을 문자열로 취급한다."
   ]
  },
  {
   "cell_type": "code",
   "execution_count": 21,
   "metadata": {},
   "outputs": [
    {
     "name": "stdout",
     "output_type": "stream",
     "text": [
      "Life is too short, you need python\n"
     ]
    },
    {
     "data": {
      "text/plain": [
       "'Life is too short, you need python'"
      ]
     },
     "execution_count": 21,
     "metadata": {},
     "output_type": "execute_result"
    }
   ],
   "source": [
    "a = input()\n",
    "a"
   ]
  },
  {
   "cell_type": "code",
   "execution_count": 22,
   "metadata": {},
   "outputs": [
    {
     "name": "stdout",
     "output_type": "stream",
     "text": [
      "숫자를 입력하세요: 4\n"
     ]
    }
   ],
   "source": [
    "num = input(\"숫자를 입력하세요: \")"
   ]
  },
  {
   "cell_type": "markdown",
   "metadata": {},
   "source": [
    "#### 2. print 함수의 사용\n",
    "print는 문자열을 출력한다"
   ]
  },
  {
   "cell_type": "code",
   "execution_count": 26,
   "metadata": {},
   "outputs": [
    {
     "name": "stdout",
     "output_type": "stream",
     "text": [
      "lifeistooshort\n"
     ]
    }
   ],
   "source": [
    "print(\"life\" \"is\" \"too\" \"short\") # 문자열에 +연산이 자동으로 진행된다."
   ]
  },
  {
   "cell_type": "code",
   "execution_count": 25,
   "metadata": {},
   "outputs": [
    {
     "name": "stdout",
     "output_type": "stream",
     "text": [
      "life is too short\n"
     ]
    }
   ],
   "source": [
    "print(\"life\", \"is\", \"too\", \"short\") # 콤마로 띄어쓰기를 추가가능"
   ]
  },
  {
   "cell_type": "code",
   "execution_count": 27,
   "metadata": {},
   "outputs": [
    {
     "name": "stdout",
     "output_type": "stream",
     "text": [
      "0 1 2 3 4 5 6 7 8 9 "
     ]
    }
   ],
   "source": [
    "for i in range(10):\n",
    "    print(i, end=' ') # 함수가 끝날 때 개행이 아니라 ' '가 입력되게 설정"
   ]
  },
  {
   "cell_type": "markdown",
   "metadata": {},
   "source": [
    "# 3. 파일 입력, 출력\n",
    "#### 1. 파일 생성하기\n",
    "```python\n",
    "f = open(\"새파일.txt\", 'w') # 객체 모드에는 r, w, a가 있다.\n",
    "f.close()\n",
    "```"
   ]
  },
  {
   "cell_type": "markdown",
   "metadata": {},
   "source": [
    "2. 파일 쓰기\n",
    "```python\n",
    "f = open(\"file.txt\", 'w')\n",
    "for i in range(1, 11):\n",
    "        data = \"%d번째 줄입니다.\\n\" % i\n",
    "        f.write(data)\n",
    "f.close()\n",
    "```"
   ]
  },
  {
   "cell_type": "markdown",
   "metadata": {},
   "source": [
    "3. 파일 읽기\n",
    "\n",
    "```python\n",
    "# readline 함수를 이용하는 방법\n",
    "# readline 함수는 파일을 한 줄씩 읽는다.\n",
    "\n",
    "f = open(\"newfile.txt\", 'r')\n",
    "line = f.readline()\n",
    "print(line)\n",
    "f.close()\n",
    "```\n",
    "\n",
    "다음 예제는 모든 줄을 읽어서 화면에 출력하는 예제이다.\n",
    "\n",
    "```python\n",
    "f = open(\"newfile.txt\", \"r\")\n",
    "while True:\n",
    "    line = f.readline()\n",
    "    if not line: break\n",
    "    print(line)\n",
    "f.close()\n",
    "```\n",
    "\n",
    "다음 예제는 readlines 함수를 사용하며 모든 라인을 읽어서 리스트를 생성한다.\n",
    "```python\n",
    "f = open(\"newfile.txt\", \"r\")\n",
    "lines = f.readlines()\n",
    "\n",
    "for line in lines:\n",
    "    print(line)\n",
    "f.close()\n",
    "```\n",
    "\n",
    "다음 예제는 read 함수를 사용하며, 파일의 내용 전체를 문자열로 돌려준다.\n",
    "```python\n",
    "f = open(\"newfile.txt\", \"r\")\n",
    "data = f.read()\n",
    "print(data)\n",
    "f.close()\n",
    "```"
   ]
  },
  {
   "cell_type": "markdown",
   "metadata": {},
   "source": [
    "# 4. sys 모듈로 매개변수 받기\n",
    "#### 1. 개요\n",
    "다음과 같이 파이썬 프로그램이 실행된다.\n",
    "```shell\n",
    "python sys1.py aaa bbb ccc\n",
    "```\n",
    "이때, sys1.py는 argv[0], aaa는 argv[1], bbb는 argv[2], ccc는 argv[3]이 된다.<br>\n",
    "파이썬은 모듈을 사용하여 프로그램에서 이러한 매개변수를 받을 수 있다.<br>\n",
    "\n",
    "```python\n",
    "import sys\n",
    "\n",
    "args = sys.argv[1:]\n",
    "for i in args:\n",
    "    print(i)\n",
    "```"
   ]
  }
 ],
 "metadata": {
  "kernelspec": {
   "display_name": "Python 3",
   "language": "python",
   "name": "python3"
  },
  "language_info": {
   "codemirror_mode": {
    "name": "ipython",
    "version": 3
   },
   "file_extension": ".py",
   "mimetype": "text/x-python",
   "name": "python",
   "nbconvert_exporter": "python",
   "pygments_lexer": "ipython3",
   "version": "3.7.6"
  }
 },
 "nbformat": 4,
 "nbformat_minor": 4
}
