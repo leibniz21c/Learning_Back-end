{
 "cells": [
  {
   "cell_type": "markdown",
   "metadata": {},
   "source": [
    "# HTML Table and Class\n",
    "---\n"
   ]
  },
  {
   "cell_type": "markdown",
   "metadata": {},
   "source": [
    "HTML을 하다보면 굉장히 많이 사용하는 태그가 바로 < table >이다. 표를 만들어주는 HTML태그인데, 표 뿐만 아니라 갤러리를 만들 수도 있고 웹사이트 전체의 레이아웃 공간을 배치할때도 사용할 수 있다. \n",
    "### 1. 테이블 생성\n",
    "테이블을 구성하는 태그를 알아보자.\n",
    "- < table > : 테이블을 생성하는 태그\n",
    "- < th > : 테이블의 헤더부분을 만드는 태그\n",
    "- < tr > : 테이블의 행을 만드는 태그(right)\n",
    "- < td > : 테이블의 열을 만드는 태그(down)\n",
    "\n",
    "테이블을 만드는 순서는 다음과 같다. 먼저 제일 바깥쪽에는<br>\n",
    "```html\n",
    "<table></table>\n",
    "```\n",
    "태그가 들어간다. 그리고 가장 위에는 ``` <th> ```라는 테이블 헤더 태그를 사용한다. <strong>굵은 글씨체에 가운데 정렬이 기본값</strong>이다. 그치만 대부분의 사람들은 ``` <tr> ```태그를 활용하여 테이블 헤더를 만든다. 어쨋든 그 다음은 행을 만드는 태그 ``` <tr> ```태그가 들어간다. 그리고 ``` <tr> ```태그 안에는 열을 만드는 속성 ``` <td> ```태그가 들어간다. 예제는 다음과 같다.\n",
    "```html\n",
    "<!DOCTYPE html>\n",
    "<html>\n",
    "    <head>\n",
    "        <meta charset=\"EUC-KR\">\n",
    "        <title> 테이블 생성 예시 </title>\n",
    "    </head>\n",
    "    <body>\n",
    "        <table border=\"1\">\n",
    "            <th>테이블</th>\n",
    "            <th>만들기</th>\n",
    "            <tr><!-- 첫 번째 행 -->\n",
    "                <td>첫 번째 칸</td>\n",
    "                <td>두 번째 칸</td>\n",
    "            </tr><!-- 첫 번째 행 끝 -->\n",
    "            <tr><!-- 두 번째 행 -->\n",
    "                <td>첫 번째 칸</td>\n",
    "                <td>첫 번째 칸</td>\n",
    "            </tr><!-- 두 번째 행 끝 -->\n",
    "        </table>\n",
    "    </body>\n",
    "</html>\n",
    "```"
   ]
  },
  {
   "cell_type": "markdown",
   "metadata": {},
   "source": [
    "<table border=\"1\">\n",
    "    <th>테이블</th>\n",
    "    <th>만들기</th>\n",
    "    <tr><!-- 첫 번째 행 -->\n",
    "        <td>첫 번째 칸</td>\n",
    "        <td>두 번째 칸</td>\n",
    "    </tr><!-- 첫 번째 행 끝 -->\n",
    "    <tr><!-- 두 번째 행 -->\n",
    "        <td>첫 번째 칸</td>\n",
    "        <td>첫 번째 칸</td>\n",
    "    </tr><!-- 두 번째 행 끝 -->\n",
    "</table>\n"
   ]
  },
  {
   "cell_type": "markdown",
   "metadata": {},
   "source": [
    "일단 border 속성은 숫자가 높을수록 테두리가 두꺼워진다.<br>\n",
    "추가적으로 bordercolor 속성을 색상을 지정할 수 있다. 기본 값은 검정색이다.<br>\n",
    "ex) ``` bordercolor=\"blue\" ```<br>\n",
    "width, height속성으로 테이블의 크기를 결정해 줄 수 있다. <br>\n",
    "ex) ``` width=50px width=100% ``` 픽셀 단위로 크기, 비율로 줄 수 있다.<br>\n",
    "colspan, rowspan은 셀을 합병시키는 기능을 한다."
   ]
  },
  {
   "cell_type": "code",
   "execution_count": null,
   "metadata": {},
   "outputs": [],
   "source": []
  }
 ],
 "metadata": {
  "kernelspec": {
   "display_name": "Python 3",
   "language": "python",
   "name": "python3"
  },
  "language_info": {
   "codemirror_mode": {
    "name": "ipython",
    "version": 3
   },
   "file_extension": ".py",
   "mimetype": "text/x-python",
   "name": "python",
   "nbconvert_exporter": "python",
   "pygments_lexer": "ipython3",
   "version": "3.7.6"
  }
 },
 "nbformat": 4,
 "nbformat_minor": 4
}
