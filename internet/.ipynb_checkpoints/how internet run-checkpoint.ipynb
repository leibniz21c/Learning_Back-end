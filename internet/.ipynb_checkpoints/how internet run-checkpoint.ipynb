{
 "cells": [
  {
   "cell_type": "markdown",
   "metadata": {},
   "source": [
    "# 인터넷은 어떻게 동작하는가?\n",
    "---\n",
    "### 1. 요약\n",
    " <strong>인터넷</strong>은 웹의 핵심적인 기술이다. 인터넷의 가장 기본적인 것은, 컴퓨터들이 서로 통신 가능한 거대한 네트워크라는 것이다. <br><br>\n",
    "[reference] https://www.youtube.com/watch?v=7_LPdttKXPc<br><br>\n",
    "\n",
    "### 2. 깊게 들어가기\n",
    " 두 개의 컴퓨터가 통신이 필요할 떄, 다른 컴퓨터와 물리적으로 이더넷 또는 Wife 나 Bluetooth 시스템으로 연결되어야 한다. 문제는 컴퓨터가 늘어나면 연결이 힘들다. 만약 컴퓨터를 10대 연결하려면 컴퓨터당 9개의 플러그가 달린 45개의 케이블이 필요하다. \n",
    "![enter image description here](https://mdn.mozillademos.org/files/8443/internet-schema-2.png)\n",
    "이 문제를 해결하기 위해 네트워크의 각 컴퓨터는 라우터라고하는 특수한 소형 컴퓨터에 연결된다. 라우터에는 단 하나의 작업만 있다. 주어진 컴퓨터에서 보낸 메시지가 올바른 대상 컴퓨터에 도착하는지만 확인한다. 이 라우터를 시스템이 추가하면 10대의 컴퓨터 네트워크에는 10개의 케이블만 필요하다.\n",
    "![enter image description here](https://mdn.mozillademos.org/files/8445/internet-schema-3.png)\n",
    " 그런데 문제는 수백, 수천, 수십억 대의 컴퓨터를 연결하는건 또 어렵다. 그래서 라우터를 이용해서 또 확장한다. 라우터에서 라우터로 무한히 확장할 수 있다.\n",
    " ![enter image description here](https://mdn.mozillademos.org/files/8449/internet-schema-5.png)\n",
    "하지만 그밖에 다른 네트워크들 : 친구, 이웃, 누구든지 컴퓨터로 이루어진 그들만의 네트워크를 가질 수 있다. 하지만 집과 다른 지역 사이에, 아주 먼 곳에 케이블을 연결할 수는 없다. 이 문제의 해결 방법은 전화기 기반의 시설이다. 이 시설은 이미 세계 어느 곳과도 연결되어 있으므로 우리가 필요로 하는 완벽한 배선이라고 할 수 있다. 따라서 우리의 네트워크를 전화 시설과 연결하기 위해선, 모뎀이라는 특수 장비가 필요하다. 이 모뎀은 우리 네트워크의 정보를 전화 시설에서 처리 할 수있는 정보로 바꾸며, 그 반대의 경우도 마찬가지다.\n",
    "![enter image description here](https://mdn.mozillademos.org/files/8451/internet-schema-6.png)\n",
    "그래서 우리의 네트워크는 전화 시설에 연결된다. 다음 단계는 우리의 네트워크에서 도달하려는 네트워크로 메시지를 보내는 것이다. 그렇게하기 위해 네트워크를 인터넷 서비스 제공 업체(Internet Service Provider, ISP)에 연결한다. ISP는 모두 함께 연결되는 몇몇 특수한 라우터를 관리하고 다른 ISP의 라우터에도 액세스 할 수 있는 회사이다.  따라서 우리 네트워크의 메시지는 ISP 네트워크의 네트워크를 통해 대상 네트워크로 전달된다. 인터넷은 이러한 전체 네트워크 인프라로 구성된다.![enter image description here](https://mdn.mozillademos.org/files/8453/internet-schema-7.png)\n"
   ]
  }
 ],
 "metadata": {
  "kernelspec": {
   "display_name": "Python 3",
   "language": "python",
   "name": "python3"
  },
  "language_info": {
   "codemirror_mode": {
    "name": "ipython",
    "version": 3
   },
   "file_extension": ".py",
   "mimetype": "text/x-python",
   "name": "python",
   "nbconvert_exporter": "python",
   "pygments_lexer": "ipython3",
   "version": "3.7.6"
  }
 },
 "nbformat": 4,
 "nbformat_minor": 4
}
