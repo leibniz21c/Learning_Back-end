{
 "cells": [
  {
   "cell_type": "markdown",
   "metadata": {},
   "source": [
    "# HTTP는 무엇일까?\n",
    "---\n",
    "### 1. 소개\n",
    "Client가 request하여 html파일을 요구하면 Server는 response하여 html파일을 제공한다. 이때 통신규약을 Http로 잡고, 각 request나 response에는 header가 존재한다. \n",
    "\n",
    "### 2. Request header\n",
    "![enter image description here](https://media.vlpt.us/post-images/rosewwross/6cafb380-4b37-11ea-b8a3-d182d6d1a356/image.png)"
   ]
  },
  {
   "cell_type": "markdown",
   "metadata": {},
   "source": [
    "GET의 경우는 GET 방식으로 서버에 요청을 하겠다를 의미한다. Host행과 함께 가장 중요한 행이며, /doc/test.html 파일을 host로 부터 요청한다는 의미이다. Request Line 이라고 부른다. HTTP/1.1 방식을 사용한다는 의미도 마지막에 포함되어 있다. <br><br>\n",
    "Host의 경우는 웹 서버의 호스트를 의미한다. Host부터 header와 body를 구분하는 빈 칸까지 합쳐서 Request Headers 라고 한다.<br><br>\n",
    "Accept는 어떤 파일을 지원하는지 명시 되어있다.<br><br>\n",
    "Accept-Language는 어떤 언어를 지원하는지 명시 되어있다.<br><br>\n",
    "Accept-Encoding은 서버에서 제공하는 파일의 크기가 클 때, 압축을 해서 제공하여 네트워크 리소스를 아낄 수 있는데, 이때 브라우저가 그 압축방식을 처리할 수 있게 압축방식을 명시한다. <br><br>\n",
    "User-Agent는 접속한 유저의 정보를 담고있다. 어떤 운영체제, CPU, 브라우저인지 정보를 담는다. <br><br>\n",
    "Content-Length의 경우는 말 그대로 전송하는 컨텐츠의 길이를 의미한다.<br><br>\n",
    "이후 한 줄의 블랭크를 주고 바디와 구분이되며 바디에서는 컨텐츠의 내용을 담는다."
   ]
  },
  {
   "cell_type": "markdown",
   "metadata": {},
   "source": [
    "### 3. Response header\n",
    "![enter image description here](https://jsstudygroup.github.io/jsStudyBlog/assets/images/post/http_resHeader.jpg)"
   ]
  },
  {
   "cell_type": "markdown",
   "metadata": {},
   "source": [
    "status는 서버가 응답했을때 잘되었는지, 잘안되었는지 등의 정보를 담고있다. Http의 버전, 응답결과코드, 응답결과의 내용이 나와있다.<br><br>\n",
    "\n",
    "status의 code는 여러가지가 있는데, 1xx는 정보를 전달하는 것과 관련된 코드이다. 2xx은 성공했다는 의미이다. 3xx은 웹 브라우저가 다른 곳으로 바로 이동하게 된다. 4xx은 클라이언트의 에러(ex : 404 Not Found)이다. 5xx는 서버에 에러가 있다. "
   ]
  },
  {
   "cell_type": "code",
   "execution_count": null,
   "metadata": {},
   "outputs": [],
   "source": []
  }
 ],
 "metadata": {
  "kernelspec": {
   "display_name": "Python 3",
   "language": "python",
   "name": "python3"
  },
  "language_info": {
   "codemirror_mode": {
    "name": "ipython",
    "version": 3
   },
   "file_extension": ".py",
   "mimetype": "text/x-python",
   "name": "python",
   "nbconvert_exporter": "python",
   "pygments_lexer": "ipython3",
   "version": "3.7.6"
  }
 },
 "nbformat": 4,
 "nbformat_minor": 4
}
